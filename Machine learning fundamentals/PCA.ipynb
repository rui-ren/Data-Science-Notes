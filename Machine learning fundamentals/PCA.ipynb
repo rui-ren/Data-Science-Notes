{
 "cells": [
  {
   "cell_type": "code",
   "execution_count": 1,
   "metadata": {},
   "outputs": [],
   "source": [
    "# pca"
   ]
  },
  {
   "cell_type": "code",
   "execution_count": 2,
   "metadata": {},
   "outputs": [],
   "source": [
    "from sklearn import datasets\n",
    "import numpy as np"
   ]
  },
  {
   "cell_type": "code",
   "execution_count": 4,
   "metadata": {},
   "outputs": [],
   "source": [
    "iris = datasets.load_iris()\n",
    "R = np.array(iris.data)"
   ]
  },
  {
   "cell_type": "code",
   "execution_count": 6,
   "metadata": {},
   "outputs": [
    {
     "data": {
      "text/plain": [
       "(150, 4)"
      ]
     },
     "execution_count": 6,
     "metadata": {},
     "output_type": "execute_result"
    }
   ],
   "source": [
    "R.shape"
   ]
  },
  {
   "cell_type": "code",
   "execution_count": 7,
   "metadata": {},
   "outputs": [
    {
     "data": {
      "text/html": [
       "<div>\n",
       "<style scoped>\n",
       "    .dataframe tbody tr th:only-of-type {\n",
       "        vertical-align: middle;\n",
       "    }\n",
       "\n",
       "    .dataframe tbody tr th {\n",
       "        vertical-align: top;\n",
       "    }\n",
       "\n",
       "    .dataframe thead th {\n",
       "        text-align: right;\n",
       "    }\n",
       "</style>\n",
       "<table border=\"1\" class=\"dataframe\">\n",
       "  <thead>\n",
       "    <tr style=\"text-align: right;\">\n",
       "      <th></th>\n",
       "      <th>sepal length (cm)</th>\n",
       "      <th>sepal width (cm)</th>\n",
       "      <th>petal length (cm)</th>\n",
       "      <th>petal width (cm)</th>\n",
       "    </tr>\n",
       "  </thead>\n",
       "  <tbody>\n",
       "    <tr>\n",
       "      <th>sepal length (cm)</th>\n",
       "      <td>0.685694</td>\n",
       "      <td>-0.042434</td>\n",
       "      <td>1.274315</td>\n",
       "      <td>0.516271</td>\n",
       "    </tr>\n",
       "    <tr>\n",
       "      <th>sepal width (cm)</th>\n",
       "      <td>-0.042434</td>\n",
       "      <td>0.189979</td>\n",
       "      <td>-0.329656</td>\n",
       "      <td>-0.121639</td>\n",
       "    </tr>\n",
       "    <tr>\n",
       "      <th>petal length (cm)</th>\n",
       "      <td>1.274315</td>\n",
       "      <td>-0.329656</td>\n",
       "      <td>3.116278</td>\n",
       "      <td>1.295609</td>\n",
       "    </tr>\n",
       "    <tr>\n",
       "      <th>petal width (cm)</th>\n",
       "      <td>0.516271</td>\n",
       "      <td>-0.121639</td>\n",
       "      <td>1.295609</td>\n",
       "      <td>0.581006</td>\n",
       "    </tr>\n",
       "  </tbody>\n",
       "</table>\n",
       "</div>"
      ],
      "text/plain": [
       "                   sepal length (cm)  sepal width (cm)  petal length (cm)  \\\n",
       "sepal length (cm)           0.685694         -0.042434           1.274315   \n",
       "sepal width (cm)           -0.042434          0.189979          -0.329656   \n",
       "petal length (cm)           1.274315         -0.329656           3.116278   \n",
       "petal width (cm)            0.516271         -0.121639           1.295609   \n",
       "\n",
       "                   petal width (cm)  \n",
       "sepal length (cm)          0.516271  \n",
       "sepal width (cm)          -0.121639  \n",
       "petal length (cm)          1.295609  \n",
       "petal width (cm)           0.581006  "
      ]
     },
     "execution_count": 7,
     "metadata": {},
     "output_type": "execute_result"
    }
   ],
   "source": [
    "# numpy has an API to calculate a covariance matrix\n",
    "# y-axes will be used for calculation\n",
    "R_cov = np.cov(R, rowvar=False)\n",
    "\n",
    "# print the covariance matrix\n",
    "import pandas as pd\n",
    "iris_covmat = pd.DataFrame(data=R_cov, columns=iris.feature_names)\n",
    "iris_covmat.index = iris.feature_names\n",
    "iris_covmat"
   ]
  },
  {
   "cell_type": "code",
   "execution_count": 10,
   "metadata": {},
   "outputs": [
    {
     "name": "stdout",
     "output_type": "stream",
     "text": [
      "[4.22824171 0.24267075 0.0782095  0.02383509]\n",
      "...\n",
      "[[ 0.36138659 -0.65658877 -0.58202985  0.31548719]\n",
      " [-0.08452251 -0.73016143  0.59791083 -0.3197231 ]\n",
      " [ 0.85667061  0.17337266  0.07623608 -0.47983899]\n",
      " [ 0.3582892   0.07548102  0.54583143  0.75365743]]\n"
     ]
    }
   ],
   "source": [
    "# calculate the eigenvalues and eigenvectors\n",
    "eig_values, eig_vectors = np.linalg.eig(R_cov)\n",
    "\n",
    "# print eig_value nad vector\n",
    "print(eig_values)\n",
    "print(\"...\")\n",
    "print(eig_vectors)\n"
   ]
  },
  {
   "cell_type": "code",
   "execution_count": 12,
   "metadata": {},
   "outputs": [],
   "source": [
    "featureVector = eig_vectors[:,:2]"
   ]
  },
  {
   "cell_type": "code",
   "execution_count": 13,
   "metadata": {},
   "outputs": [
    {
     "data": {
      "text/plain": [
       "array([[ 0.36138659, -0.65658877],\n",
       "       [-0.08452251, -0.73016143],\n",
       "       [ 0.85667061,  0.17337266],\n",
       "       [ 0.3582892 ,  0.07548102]])"
      ]
     },
     "execution_count": 13,
     "metadata": {},
     "output_type": "execute_result"
    }
   ],
   "source": [
    "featureVector"
   ]
  },
  {
   "cell_type": "code",
   "execution_count": 14,
   "metadata": {},
   "outputs": [
    {
     "data": {
      "text/plain": [
       "(150, 2)"
      ]
     },
     "execution_count": 14,
     "metadata": {},
     "output_type": "execute_result"
    }
   ],
   "source": [
    "featureVector_t = np.transpose(featureVector)\n",
    "\n",
    "# R is the original iris dataset\n",
    "R_t = np.transpose(R)\n",
    "\n",
    "newDataset_t = np.matmul(featureVector_t, R_t)\n",
    "newDataset = np.transpose(newDataset_t)\n",
    "\n",
    "# check the shape of new reduced 2D dataset\n",
    "newDataset.shape"
   ]
  },
  {
   "cell_type": "code",
   "execution_count": null,
   "metadata": {},
   "outputs": [],
   "source": []
  }
 ],
 "metadata": {
  "kernelspec": {
   "display_name": "Python 3",
   "language": "python",
   "name": "python3"
  },
  "language_info": {
   "codemirror_mode": {
    "name": "ipython",
    "version": 3
   },
   "file_extension": ".py",
   "mimetype": "text/x-python",
   "name": "python",
   "nbconvert_exporter": "python",
   "pygments_lexer": "ipython3",
   "version": "3.7.3"
  }
 },
 "nbformat": 4,
 "nbformat_minor": 2
}
