{
 "cells": [
  {
   "cell_type": "markdown",
   "metadata": {},
   "source": [
    "<h1><center> Support Vector Machine </center></h1>"
   ]
  },
  {
   "cell_type": "markdown",
   "metadata": {},
   "source": [
    "<h2> 1. Definition of SVM </h2>"
   ]
  },
  {
   "cell_type": "markdown",
   "metadata": {},
   "source": [
    "<p style='text-indent:4%;'>\n",
    "    In machine learning, support-vector machines are supervised learning models with associated learning algorithm that analyze data used for classification and regression analysis.\n",
    "</p>\n",
    "\n",
    "<h3>\n",
    "    1.1 Linear logistic regression\n",
    "    </h3>\n",
    "    <p style='text-indent: 5%;'> \n",
    "        Assume we have few data point that belongs to different categories. We need to use a linear classifier to discriminate these data points into different category.\n",
    "    </p>\n",
    "    <p style='text-indent: 5%;'>\n",
    "        The learning target is to find a hyper plane that can group the data points into different category. The equation can be described as following,<br>\n",
    "    <math>\n",
    "        <center>\n",
    "         W<sup>T</sup> x + b = 0\n",
    "        </center>\n",
    "    </math>\n",
    "    </p>"
   ]
  },
  {
   "cell_type": "code",
   "execution_count": null,
   "metadata": {},
   "outputs": [],
   "source": []
  }
 ],
 "metadata": {
  "kernelspec": {
   "display_name": "Python 3",
   "language": "python",
   "name": "python3"
  },
  "language_info": {
   "codemirror_mode": {
    "name": "ipython",
    "version": 3
   },
   "file_extension": ".py",
   "mimetype": "text/x-python",
   "name": "python",
   "nbconvert_exporter": "python",
   "pygments_lexer": "ipython3",
   "version": "3.7.3"
  }
 },
 "nbformat": 4,
 "nbformat_minor": 2
}
