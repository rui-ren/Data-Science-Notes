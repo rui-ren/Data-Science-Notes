{
 "cells": [
  {
   "cell_type": "code",
   "execution_count": 5,
   "metadata": {},
   "outputs": [
    {
     "ename": "ModuleNotFoundError",
     "evalue": "No module named 'tensorflow.examples.tutorials'",
     "output_type": "error",
     "traceback": [
      "\u001b[1;31m---------------------------------------------------------------------------\u001b[0m",
      "\u001b[1;31mModuleNotFoundError\u001b[0m                       Traceback (most recent call last)",
      "\u001b[1;32m<ipython-input-5-c2aaa1e81da4>\u001b[0m in \u001b[0;36m<module>\u001b[1;34m\u001b[0m\n\u001b[0;32m      1\u001b[0m \u001b[1;32mimport\u001b[0m \u001b[0mtensorflow\u001b[0m \u001b[1;32mas\u001b[0m \u001b[0mtf\u001b[0m\u001b[1;33m\u001b[0m\u001b[1;33m\u001b[0m\u001b[0m\n\u001b[1;32m----> 2\u001b[1;33m \u001b[1;32mfrom\u001b[0m \u001b[0mtensorflow\u001b[0m\u001b[1;33m.\u001b[0m\u001b[0mexamples\u001b[0m\u001b[1;33m.\u001b[0m\u001b[0mtutorials\u001b[0m\u001b[1;33m.\u001b[0m\u001b[0mmnist\u001b[0m \u001b[1;32mimport\u001b[0m \u001b[0minput_data\u001b[0m\u001b[1;33m\u001b[0m\u001b[1;33m\u001b[0m\u001b[0m\n\u001b[0m",
      "\u001b[1;31mModuleNotFoundError\u001b[0m: No module named 'tensorflow.examples.tutorials'"
     ]
    }
   ],
   "source": [
    "import tensorflow as tf\n",
    "from tensorflow.examples.tutorials.mnist import input_data\n"
   ]
  },
  {
   "cell_type": "code",
   "execution_count": 3,
   "metadata": {},
   "outputs": [
    {
     "ename": "ModuleNotFoundError",
     "evalue": "No module named 'tensorflow_datasets'",
     "output_type": "error",
     "traceback": [
      "\u001b[1;31m---------------------------------------------------------------------------\u001b[0m",
      "\u001b[1;31mModuleNotFoundError\u001b[0m                       Traceback (most recent call last)",
      "\u001b[1;32m<ipython-input-3-46a8a2031c9c>\u001b[0m in \u001b[0;36m<module>\u001b[1;34m\u001b[0m\n\u001b[1;32m----> 1\u001b[1;33m \u001b[1;32mimport\u001b[0m \u001b[0mtensorflow_datasets\u001b[0m \u001b[1;32mas\u001b[0m \u001b[0mtfds\u001b[0m\u001b[1;33m\u001b[0m\u001b[1;33m\u001b[0m\u001b[0m\n\u001b[0m",
      "\u001b[1;31mModuleNotFoundError\u001b[0m: No module named 'tensorflow_datasets'"
     ]
    }
   ],
   "source": [
    "import tensorflow_datasets as tfds"
   ]
  },
  {
   "cell_type": "code",
   "execution_count": 4,
   "metadata": {},
   "outputs": [],
   "source": [
    "!pip install -q git+https://github.com/tensorflow/examples.git"
   ]
  },
  {
   "cell_type": "code",
   "execution_count": 10,
   "metadata": {},
   "outputs": [],
   "source": [
    "from tensorflow.examples.tutorials.mnist import input_data"
   ]
  },
  {
   "cell_type": "code",
   "execution_count": 7,
   "metadata": {},
   "outputs": [
    {
     "name": "stdout",
     "output_type": "stream",
     "text": [
      "C:\\Users\\ruire\\Documents\\GitHub\\Fundamentals\\Deep learning fundamentals\n"
     ]
    }
   ],
   "source": [
    "import os\n",
    "cd = os.getcwd()\n",
    "print(cd)"
   ]
  },
  {
   "cell_type": "code",
   "execution_count": 9,
   "metadata": {},
   "outputs": [],
   "source": [
    "import tensorflow as tf"
   ]
  },
  {
   "cell_type": "code",
   "execution_count": 13,
   "metadata": {},
   "outputs": [
    {
     "name": "stdout",
     "output_type": "stream",
     "text": [
      "Extracting MNIST_data\\train-images-idx3-ubyte.gz\n",
      "Extracting MNIST_data\\train-labels-idx1-ubyte.gz\n",
      "Extracting MNIST_data\\t10k-images-idx3-ubyte.gz\n",
      "Extracting MNIST_data\\t10k-labels-idx1-ubyte.gz\n",
      "Input data [[0. 0. 0. ... 0. 0. 0.]\n",
      " [0. 0. 0. ... 0. 0. 0.]\n",
      " [0. 0. 0. ... 0. 0. 0.]\n",
      " ...\n",
      " [0. 0. 0. ... 0. 0. 0.]\n",
      " [0. 0. 0. ... 0. 0. 0.]\n",
      " [0. 0. 0. ... 0. 0. 0.]]\n",
      "input shape (55000, 784)\n"
     ]
    },
    {
     "data": {
      "image/png": "[encoded data removed]",
      "text/plain": [
       "<Figure size 432x288 with 1 Axes>"
      ]
     },
     "metadata": {
      "needs_background": "light"
     },
     "output_type": "display_data"
    }
   ],
   "source": [
    "mnist = input_data.read_data_sets(\"MNIST_data\", one_hot=True)\n",
    "print('Input data', mnist.train.images)\n",
    "print('input shape', mnist.train.images.shape)\n",
    "import pylab\n",
    "im = mnist.train.images[1]\n",
    "im = im.reshape(-1, 28)\n",
    "pylab.imshow(im)\n",
    "pylab.show()"
   ]
  },
  {
   "cell_type": "code",
   "execution_count": 15,
   "metadata": {},
   "outputs": [
    {
     "data": {
      "text/plain": [
       "<matplotlib.image.AxesImage at 0x22481bab6a0>"
      ]
     },
     "execution_count": 15,
     "metadata": {},
     "output_type": "execute_result"
    },
    {
     "data": {
      "image/png": "[encoded data removed]",
      "text/plain": [
       "<Figure size 432x288 with 1 Axes>"
      ]
     },
     "metadata": {
      "needs_background": "light"
     },
     "output_type": "display_data"
    }
   ],
   "source": [
    "import matplotlib.pyplot as plt\n",
    "plt.imshow(im)"
   ]
  },
  {
   "cell_type": "code",
   "execution_count": 17,
   "metadata": {},
   "outputs": [
    {
     "name": "stdout",
     "output_type": "stream",
     "text": [
      "Extracting MNIST_data\\train-images-idx3-ubyte.gz\n",
      "Extracting MNIST_data\\train-labels-idx1-ubyte.gz\n",
      "Extracting MNIST_data\\t10k-images-idx3-ubyte.gz\n",
      "Extracting MNIST_data\\t10k-labels-idx1-ubyte.gz\n"
     ]
    },
    {
     "data": {
      "text/plain": [
       "<matplotlib.image.AxesImage at 0x22481665f28>"
      ]
     },
     "execution_count": 17,
     "metadata": {},
     "output_type": "execute_result"
    },
    {
     "data": {
      "image/png": "[encoded data removed]",
      "text/plain": [
       "<Figure size 432x288 with 1 Axes>"
      ]
     },
     "metadata": {
      "needs_background": "light"
     },
     "output_type": "display_data"
    }
   ],
   "source": [
    "from tensorflow.examples.tutorials.mnist import input_data\n",
    "import matplotlib.pyplot as plt\n",
    "mnist = input_data.read_data_sets(\"MNIST_data\", one_hot=True)\n",
    "im = mnist.train.images[1]\n",
    "im = im.reshape(-1, 28)\n",
    "plt.imshow(im)"
   ]
  },
  {
   "cell_type": "code",
   "execution_count": 1,
   "metadata": {},
   "outputs": [
    {
     "name": "stderr",
     "output_type": "stream",
     "text": [
      "Using TensorFlow backend.\n"
     ]
    }
   ],
   "source": [
    "import numpy as np\n",
    "from keras.models import Sequential\n",
    "from keras.layers import Dense, Activation\n",
    "from keras.optimizers import SGD\n"
   ]
  },
  {
   "cell_type": "code",
   "execution_count": 2,
   "metadata": {},
   "outputs": [
    {
     "name": "stdout",
     "output_type": "stream",
     "text": [
      "Model: \"sequential_1\"\n",
      "_________________________________________________________________\n",
      "Layer (type)                 Output Shape              Param #   \n",
      "=================================================================\n",
      "dense_1 (Dense)              (None, 10)                30        \n",
      "_________________________________________________________________\n",
      "activation_1 (Activation)    (None, 10)                0         \n",
      "_________________________________________________________________\n",
      "dense_2 (Dense)              (None, 1)                 11        \n",
      "_________________________________________________________________\n",
      "activation_2 (Activation)    (None, 1)                 0         \n",
      "=================================================================\n",
      "Total params: 41\n",
      "Trainable params: 41\n",
      "Non-trainable params: 0\n",
      "_________________________________________________________________\n"
     ]
    }
   ],
   "source": [
    "x_train = np.array([[0, 0],\n",
    "                    [0, 1],\n",
    "                    [1, 0],\n",
    "                    [1, 1]])\n",
    "\n",
    "y_train = np.array([[0],\n",
    "                    [1],\n",
    "                    [1],\n",
    "                    [0]])\n",
    "\n",
    "model = Sequential()\n",
    "num_neurons = 10\n",
    "model.add(Dense(num_neurons, input_dim=2))\n",
    "model.add(Activation('tanh'))\n",
    "model.add(Dense(1))\n",
    "model.add(Activation('sigmoid'))\n",
    "model.summary()"
   ]
  },
  {
   "cell_type": "code",
   "execution_count": 3,
   "metadata": {},
   "outputs": [],
   "source": [
    "sgd = SGD(lr=0.1)\n",
    "model.compile(loss='binary_crossentropy', optimizer=sgd, metrics=['accuracy'])"
   ]
  },
  {
   "cell_type": "code",
   "execution_count": 4,
   "metadata": {},
   "outputs": [
    {
     "data": {
      "text/plain": [
       "array([[0.5       ],\n",
       "       [0.65568584],\n",
       "       [0.6301771 ],\n",
       "       [0.7555856 ]], dtype=float32)"
      ]
     },
     "execution_count": 4,
     "metadata": {},
     "output_type": "execute_result"
    }
   ],
   "source": [
    "model.predict(x_train)"
   ]
  },
  {
   "cell_type": "code",
   "execution_count": 5,
   "metadata": {},
   "outputs": [
    {
     "data": {
      "text/plain": [
       "array([[0.5       ],\n",
       "       [0.65568584],\n",
       "       [0.6301771 ],\n",
       "       [0.7555856 ]], dtype=float32)"
      ]
     },
     "execution_count": 5,
     "metadata": {},
     "output_type": "execute_result"
    }
   ],
   "source": [
    "model.predict(x_train)"
   ]
  },
  {
   "cell_type": "code",
   "execution_count": 6,
   "metadata": {},
   "outputs": [
    {
     "name": "stdout",
     "output_type": "stream",
     "text": [
      "Epoch 1/100\n",
      "4/4 [==============================] - 0s 16ms/step - loss: 0.7465 - accuracy: 0.7500\n",
      "Epoch 2/100\n",
      "4/4 [==============================] - 0s 498us/step - loss: 0.7380 - accuracy: 0.7500\n",
      "Epoch 3/100\n",
      "4/4 [==============================] - 0s 499us/step - loss: 0.7309 - accuracy: 0.7500\n",
      "Epoch 4/100\n",
      "4/4 [==============================] - 0s 748us/step - loss: 0.7249 - accuracy: 0.7500\n",
      "Epoch 5/100\n",
      "4/4 [==============================] - 0s 499us/step - loss: 0.7199 - accuracy: 0.7500\n",
      "Epoch 6/100\n",
      "4/4 [==============================] - 0s 498us/step - loss: 0.7156 - accuracy: 0.7500\n",
      "Epoch 7/100\n",
      "4/4 [==============================] - 0s 998us/step - loss: 0.7120 - accuracy: 0.7500\n",
      "Epoch 8/100\n",
      "4/4 [==============================] - 0s 748us/step - loss: 0.7090 - accuracy: 0.7500\n",
      "Epoch 9/100\n",
      "4/4 [==============================] - 0s 748us/step - loss: 0.7065 - accuracy: 0.7500\n",
      "Epoch 10/100\n",
      "4/4 [==============================] - 0s 748us/step - loss: 0.7043 - accuracy: 0.7500\n",
      "Epoch 11/100\n",
      "4/4 [==============================] - 0s 748us/step - loss: 0.7025 - accuracy: 0.7500\n",
      "Epoch 12/100\n",
      "4/4 [==============================] - 0s 748us/step - loss: 0.7010 - accuracy: 0.7500\n",
      "Epoch 13/100\n",
      "4/4 [==============================] - 0s 488us/step - loss: 0.6996 - accuracy: 0.7500\n",
      "Epoch 14/100\n",
      "4/4 [==============================] - 0s 748us/step - loss: 0.6985 - accuracy: 0.7500\n",
      "Epoch 15/100\n",
      "4/4 [==============================] - 0s 498us/step - loss: 0.6975 - accuracy: 0.7500\n",
      "Epoch 16/100\n",
      "4/4 [==============================] - 0s 499us/step - loss: 0.6967 - accuracy: 0.7500\n",
      "Epoch 17/100\n",
      "4/4 [==============================] - 0s 499us/step - loss: 0.6959 - accuracy: 0.7500\n",
      "Epoch 18/100\n",
      "4/4 [==============================] - 0s 748us/step - loss: 0.6953 - accuracy: 0.7500\n",
      "Epoch 19/100\n",
      "4/4 [==============================] - 0s 748us/step - loss: 0.6947 - accuracy: 0.7500\n",
      "Epoch 20/100\n",
      "4/4 [==============================] - 0s 499us/step - loss: 0.6942 - accuracy: 0.7500\n",
      "Epoch 21/100\n",
      "4/4 [==============================] - 0s 499us/step - loss: 0.6937 - accuracy: 0.7500\n",
      "Epoch 22/100\n",
      "4/4 [==============================] - 0s 499us/step - loss: 0.6933 - accuracy: 0.7500\n",
      "Epoch 23/100\n",
      "4/4 [==============================] - 0s 748us/step - loss: 0.6929 - accuracy: 0.7500\n",
      "Epoch 24/100\n",
      "4/4 [==============================] - 0s 748us/step - loss: 0.6926 - accuracy: 0.7500\n",
      "Epoch 25/100\n",
      "4/4 [==============================] - 0s 499us/step - loss: 0.6923 - accuracy: 0.7500\n",
      "Epoch 26/100\n",
      "4/4 [==============================] - 0s 499us/step - loss: 0.6920 - accuracy: 0.7500\n",
      "Epoch 27/100\n",
      "4/4 [==============================] - 0s 748us/step - loss: 0.6917 - accuracy: 0.7500\n",
      "Epoch 28/100\n",
      "4/4 [==============================] - 0s 499us/step - loss: 0.6914 - accuracy: 0.7500\n",
      "Epoch 29/100\n",
      "4/4 [==============================] - 0s 499us/step - loss: 0.6911 - accuracy: 0.5000\n",
      "Epoch 30/100\n",
      "4/4 [==============================] - 0s 499us/step - loss: 0.6909 - accuracy: 0.5000\n",
      "Epoch 31/100\n",
      "4/4 [==============================] - 0s 499us/step - loss: 0.6906 - accuracy: 0.5000\n",
      "Epoch 32/100\n",
      "4/4 [==============================] - 0s 499us/step - loss: 0.6904 - accuracy: 0.5000\n",
      "Epoch 33/100\n",
      "4/4 [==============================] - 0s 499us/step - loss: 0.6902 - accuracy: 0.5000\n",
      "Epoch 34/100\n",
      "4/4 [==============================] - 0s 499us/step - loss: 0.6899 - accuracy: 0.5000\n",
      "Epoch 35/100\n",
      "4/4 [==============================] - 0s 499us/step - loss: 0.6897 - accuracy: 0.5000\n",
      "Epoch 36/100\n",
      "4/4 [==============================] - 0s 748us/step - loss: 0.6895 - accuracy: 0.5000\n",
      "Epoch 37/100\n",
      "4/4 [==============================] - 0s 499us/step - loss: 0.6893 - accuracy: 0.5000\n",
      "Epoch 38/100\n",
      "4/4 [==============================] - 0s 748us/step - loss: 0.6891 - accuracy: 0.5000\n",
      "Epoch 39/100\n",
      "4/4 [==============================] - 0s 499us/step - loss: 0.6888 - accuracy: 0.5000\n",
      "Epoch 40/100\n",
      "4/4 [==============================] - 0s 499us/step - loss: 0.6886 - accuracy: 0.5000\n",
      "Epoch 41/100\n",
      "4/4 [==============================] - 0s 499us/step - loss: 0.6884 - accuracy: 0.5000\n",
      "Epoch 42/100\n",
      "4/4 [==============================] - 0s 499us/step - loss: 0.6882 - accuracy: 0.5000\n",
      "Epoch 43/100\n",
      "4/4 [==============================] - 0s 499us/step - loss: 0.6880 - accuracy: 0.5000\n",
      "Epoch 44/100\n",
      "4/4 [==============================] - 0s 748us/step - loss: 0.6878 - accuracy: 0.5000\n",
      "Epoch 45/100\n",
      "4/4 [==============================] - 0s 499us/step - loss: 0.6876 - accuracy: 0.5000\n",
      "Epoch 46/100\n",
      "4/4 [==============================] - 0s 499us/step - loss: 0.6874 - accuracy: 0.5000\n",
      "Epoch 47/100\n",
      "4/4 [==============================] - 0s 499us/step - loss: 0.6872 - accuracy: 0.5000\n",
      "Epoch 48/100\n",
      "4/4 [==============================] - 0s 499us/step - loss: 0.6870 - accuracy: 0.5000\n",
      "Epoch 49/100\n",
      "4/4 [==============================] - 0s 499us/step - loss: 0.6868 - accuracy: 0.5000\n",
      "Epoch 50/100\n",
      "4/4 [==============================] - 0s 499us/step - loss: 0.6866 - accuracy: 0.5000\n",
      "Epoch 51/100\n",
      "4/4 [==============================] - 0s 499us/step - loss: 0.6864 - accuracy: 0.5000\n",
      "Epoch 52/100\n",
      "4/4 [==============================] - 0s 499us/step - loss: 0.6862 - accuracy: 0.5000\n",
      "Epoch 53/100\n",
      "4/4 [==============================] - 0s 499us/step - loss: 0.6860 - accuracy: 0.5000\n",
      "Epoch 54/100\n",
      "4/4 [==============================] - 0s 499us/step - loss: 0.6857 - accuracy: 0.5000\n",
      "Epoch 55/100\n",
      "4/4 [==============================] - 0s 499us/step - loss: 0.6855 - accuracy: 0.5000\n",
      "Epoch 56/100\n",
      "4/4 [==============================] - 0s 499us/step - loss: 0.6853 - accuracy: 0.5000\n",
      "Epoch 57/100\n",
      "4/4 [==============================] - 0s 499us/step - loss: 0.6851 - accuracy: 0.5000\n",
      "Epoch 58/100\n",
      "4/4 [==============================] - 0s 499us/step - loss: 0.6849 - accuracy: 0.5000\n",
      "Epoch 59/100\n",
      "4/4 [==============================] - 0s 499us/step - loss: 0.6847 - accuracy: 0.5000\n",
      "Epoch 60/100\n",
      "4/4 [==============================] - 0s 499us/step - loss: 0.6845 - accuracy: 0.5000\n",
      "Epoch 61/100\n",
      "4/4 [==============================] - 0s 499us/step - loss: 0.6843 - accuracy: 0.5000\n",
      "Epoch 62/100\n",
      "4/4 [==============================] - 0s 499us/step - loss: 0.6841 - accuracy: 0.5000\n",
      "Epoch 63/100\n",
      "4/4 [==============================] - 0s 499us/step - loss: 0.6838 - accuracy: 0.5000\n",
      "Epoch 64/100\n",
      "4/4 [==============================] - 0s 748us/step - loss: 0.6836 - accuracy: 0.5000\n",
      "Epoch 65/100\n",
      "4/4 [==============================] - 0s 499us/step - loss: 0.6834 - accuracy: 0.5000\n",
      "Epoch 66/100\n",
      "4/4 [==============================] - 0s 499us/step - loss: 0.6832 - accuracy: 0.5000\n",
      "Epoch 67/100\n",
      "4/4 [==============================] - 0s 499us/step - loss: 0.6830 - accuracy: 0.5000\n",
      "Epoch 68/100\n",
      "4/4 [==============================] - 0s 748us/step - loss: 0.6828 - accuracy: 0.5000\n",
      "Epoch 69/100\n",
      "4/4 [==============================] - 0s 498us/step - loss: 0.6825 - accuracy: 0.5000\n",
      "Epoch 70/100\n",
      "4/4 [==============================] - 0s 748us/step - loss: 0.6823 - accuracy: 0.5000\n",
      "Epoch 71/100\n",
      "4/4 [==============================] - 0s 499us/step - loss: 0.6821 - accuracy: 0.5000\n",
      "Epoch 72/100\n",
      "4/4 [==============================] - 0s 499us/step - loss: 0.6819 - accuracy: 0.5000\n",
      "Epoch 73/100\n",
      "4/4 [==============================] - 0s 499us/step - loss: 0.6816 - accuracy: 0.5000\n",
      "Epoch 74/100\n",
      "4/4 [==============================] - 0s 499us/step - loss: 0.6814 - accuracy: 0.5000\n",
      "Epoch 75/100\n",
      "4/4 [==============================] - 0s 748us/step - loss: 0.6812 - accuracy: 0.5000\n",
      "Epoch 76/100\n",
      "4/4 [==============================] - 0s 748us/step - loss: 0.6810 - accuracy: 0.5000\n",
      "Epoch 77/100\n",
      "4/4 [==============================] - 0s 748us/step - loss: 0.6807 - accuracy: 0.5000\n",
      "Epoch 78/100\n",
      "4/4 [==============================] - 0s 499us/step - loss: 0.6805 - accuracy: 0.5000\n",
      "Epoch 79/100\n",
      "4/4 [==============================] - 0s 499us/step - loss: 0.6803 - accuracy: 0.5000\n",
      "Epoch 80/100\n",
      "4/4 [==============================] - 0s 748us/step - loss: 0.6800 - accuracy: 0.5000\n",
      "Epoch 81/100\n",
      "4/4 [==============================] - 0s 499us/step - loss: 0.6798 - accuracy: 0.5000\n",
      "Epoch 82/100\n",
      "4/4 [==============================] - 0s 499us/step - loss: 0.6795 - accuracy: 0.5000\n",
      "Epoch 83/100\n",
      "4/4 [==============================] - 0s 748us/step - loss: 0.6793 - accuracy: 0.5000\n"
     ]
    },
    {
     "name": "stdout",
     "output_type": "stream",
     "text": [
      "Epoch 84/100\n",
      "4/4 [==============================] - 0s 748us/step - loss: 0.6791 - accuracy: 0.5000\n",
      "Epoch 85/100\n",
      "4/4 [==============================] - 0s 748us/step - loss: 0.6788 - accuracy: 0.5000\n",
      "Epoch 86/100\n",
      "4/4 [==============================] - 0s 748us/step - loss: 0.6786 - accuracy: 0.5000\n",
      "Epoch 87/100\n",
      "4/4 [==============================] - 0s 498us/step - loss: 0.6783 - accuracy: 0.5000\n",
      "Epoch 88/100\n",
      "4/4 [==============================] - 0s 500us/step - loss: 0.6781 - accuracy: 0.5000\n",
      "Epoch 89/100\n",
      "4/4 [==============================] - 0s 499us/step - loss: 0.6778 - accuracy: 0.5000\n",
      "Epoch 90/100\n",
      "4/4 [==============================] - 0s 748us/step - loss: 0.6775 - accuracy: 0.5000\n",
      "Epoch 91/100\n",
      "4/4 [==============================] - 0s 498us/step - loss: 0.6773 - accuracy: 0.5000\n",
      "Epoch 92/100\n",
      "4/4 [==============================] - 0s 748us/step - loss: 0.6770 - accuracy: 0.5000\n",
      "Epoch 93/100\n",
      "4/4 [==============================] - 0s 748us/step - loss: 0.6768 - accuracy: 0.5000\n",
      "Epoch 94/100\n",
      "4/4 [==============================] - 0s 499us/step - loss: 0.6765 - accuracy: 0.5000\n",
      "Epoch 95/100\n",
      "4/4 [==============================] - 0s 499us/step - loss: 0.6762 - accuracy: 0.5000\n",
      "Epoch 96/100\n",
      "4/4 [==============================] - 0s 499us/step - loss: 0.6760 - accuracy: 0.5000\n",
      "Epoch 97/100\n",
      "4/4 [==============================] - 0s 499us/step - loss: 0.6757 - accuracy: 0.5000\n",
      "Epoch 98/100\n",
      "4/4 [==============================] - 0s 499us/step - loss: 0.6754 - accuracy: 0.5000\n",
      "Epoch 99/100\n",
      "4/4 [==============================] - 0s 499us/step - loss: 0.6751 - accuracy: 0.5000\n",
      "Epoch 100/100\n",
      "4/4 [==============================] - 0s 499us/step - loss: 0.6748 - accuracy: 0.5000\n"
     ]
    },
    {
     "data": {
      "text/plain": [
       "<keras.callbacks.callbacks.History at 0x238f5508a58>"
      ]
     },
     "execution_count": 6,
     "metadata": {},
     "output_type": "execute_result"
    }
   ],
   "source": [
    "model.fit(x_train, y_train, epochs=100)"
   ]
  },
  {
   "cell_type": "code",
   "execution_count": 7,
   "metadata": {},
   "outputs": [
    {
     "data": {
      "text/plain": [
       "array([[0],\n",
       "       [0],\n",
       "       [1],\n",
       "       [1]])"
      ]
     },
     "execution_count": 7,
     "metadata": {},
     "output_type": "execute_result"
    }
   ],
   "source": [
    "model.predict_classes(x_train)"
   ]
  },
  {
   "cell_type": "code",
   "execution_count": null,
   "metadata": {},
   "outputs": [],
   "source": [
    "import h5py\n",
    "model_structure = model.to_json()\n",
    "with open (\"basic_model.json\", \"w\") as json_file:\n",
    "        json_file.write(model_structure)\n",
    "model.save_weight(\"basic_weights.h5\")"
   ]
  }
 ],
 "metadata": {
  "kernelspec": {
   "display_name": "Python 3",
   "language": "python",
   "name": "python3"
  },
  "language_info": {
   "codemirror_mode": {
    "name": "ipython",
    "version": 3
   },
   "file_extension": ".py",
   "mimetype": "text/x-python",
   "name": "python",
   "nbconvert_exporter": "python",
   "pygments_lexer": "ipython3",
   "version": "3.6.9"
  }
 },
 "nbformat": 4,
 "nbformat_minor": 2
}
