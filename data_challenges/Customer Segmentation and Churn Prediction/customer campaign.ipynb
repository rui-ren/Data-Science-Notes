{
 "cells": [
  {
   "cell_type": "markdown",
   "metadata": {},
   "source": [
    "## Customer segmentation for Ad"
   ]
  },
  {
   "cell_type": "markdown",
   "metadata": {},
   "source": [
    "## Target Marketing Campaign"
   ]
  },
  {
   "cell_type": "markdown",
   "metadata": {},
   "source": [
    "The dataset contains patient data to what type of campaign they responded to via a company's healthcare data app. They would send out reminders about their healthcare regulations and each patient has been **targeted** with these campaigns:\n",
    "\n",
    "1. Emails\n",
    "2. SMS\n",
    "3. Whatapp\n",
    "4. Pamphlets\n",
    "5. Telephone\n",
    "6. Long Letters\n",
    "\n",
    "\n",
    "The target of the problem is to help us find the accurate way to **deploy Ad**\n"
   ]
  },
  {
   "cell_type": "markdown",
   "metadata": {},
   "source": [
    "### 1. Inport Libraries"
   ]
  },
  {
   "cell_type": "code",
   "execution_count": 175,
   "metadata": {},
   "outputs": [],
   "source": [
    "import pandas as pd\n",
    "import numpy as np\n",
    "import warnings\n",
    "warnings.filterwarnings(\"ignore\")\n",
    "%matplotlib inline"
   ]
  },
  {
   "cell_type": "markdown",
   "metadata": {},
   "source": [
    "### 2. Load dataset"
   ]
  },
  {
   "cell_type": "code",
   "execution_count": 176,
   "metadata": {},
   "outputs": [
    {
     "name": "stdout",
     "output_type": "stream",
     "text": [
      "There has 6 types of campaigns\n"
     ]
    },
    {
     "data": {
      "text/html": [
       "<div>\n",
       "<style scoped>\n",
       "    .dataframe tbody tr th:only-of-type {\n",
       "        vertical-align: middle;\n",
       "    }\n",
       "\n",
       "    .dataframe tbody tr th {\n",
       "        vertical-align: top;\n",
       "    }\n",
       "\n",
       "    .dataframe thead th {\n",
       "        text-align: right;\n",
       "    }\n",
       "</style>\n",
       "<table border=\"1\" class=\"dataframe\">\n",
       "  <thead>\n",
       "    <tr style=\"text-align: right;\">\n",
       "      <th></th>\n",
       "      <th>CampaignID</th>\n",
       "      <th>Type</th>\n",
       "      <th>Month</th>\n",
       "    </tr>\n",
       "  </thead>\n",
       "  <tbody>\n",
       "    <tr>\n",
       "      <th>0</th>\n",
       "      <td>1</td>\n",
       "      <td>email</td>\n",
       "      <td>January</td>\n",
       "    </tr>\n",
       "    <tr>\n",
       "      <th>1</th>\n",
       "      <td>2</td>\n",
       "      <td>email</td>\n",
       "      <td>January</td>\n",
       "    </tr>\n",
       "    <tr>\n",
       "      <th>2</th>\n",
       "      <td>3</td>\n",
       "      <td>SMS</td>\n",
       "      <td>February</td>\n",
       "    </tr>\n",
       "    <tr>\n",
       "      <th>3</th>\n",
       "      <td>4</td>\n",
       "      <td>WhatsApp</td>\n",
       "      <td>February</td>\n",
       "    </tr>\n",
       "    <tr>\n",
       "      <th>4</th>\n",
       "      <td>5</td>\n",
       "      <td>Long letter</td>\n",
       "      <td>February</td>\n",
       "    </tr>\n",
       "  </tbody>\n",
       "</table>\n",
       "</div>"
      ],
      "text/plain": [
       "   CampaignID         Type     Month\n",
       "0           1        email   January\n",
       "1           2        email   January\n",
       "2           3          SMS  February\n",
       "3           4     WhatsApp  February\n",
       "4           5  Long letter  February"
      ]
     },
     "execution_count": 176,
     "metadata": {},
     "output_type": "execute_result"
    }
   ],
   "source": [
    "# the type of campaign --> 6 campaign type\n",
    "campaign_type = pd.read_excel(\"campaign_response.xlsx\", sheetname=0)\n",
    "# \n",
    "print(\"There has {} types of campaigns\".format(len(campaign_type[\"Type\"].value_counts())))\n",
    "campaign_type.head()"
   ]
  },
  {
   "cell_type": "code",
   "execution_count": 177,
   "metadata": {},
   "outputs": [
    {
     "name": "stdout",
     "output_type": "stream",
     "text": [
      "There has 96 number of patients who responded\n"
     ]
    },
    {
     "data": {
      "text/html": [
       "<div>\n",
       "<style scoped>\n",
       "    .dataframe tbody tr th:only-of-type {\n",
       "        vertical-align: middle;\n",
       "    }\n",
       "\n",
       "    .dataframe tbody tr th {\n",
       "        vertical-align: top;\n",
       "    }\n",
       "\n",
       "    .dataframe thead th {\n",
       "        text-align: right;\n",
       "    }\n",
       "</style>\n",
       "<table border=\"1\" class=\"dataframe\">\n",
       "  <thead>\n",
       "    <tr style=\"text-align: right;\">\n",
       "      <th></th>\n",
       "      <th>Patient</th>\n",
       "      <th>CampaignID</th>\n",
       "      <th>response</th>\n",
       "    </tr>\n",
       "  </thead>\n",
       "  <tbody>\n",
       "    <tr>\n",
       "      <th>0</th>\n",
       "      <td>10</td>\n",
       "      <td>1</td>\n",
       "      <td>1</td>\n",
       "    </tr>\n",
       "    <tr>\n",
       "      <th>1</th>\n",
       "      <td>23</td>\n",
       "      <td>1</td>\n",
       "      <td>1</td>\n",
       "    </tr>\n",
       "    <tr>\n",
       "      <th>2</th>\n",
       "      <td>24</td>\n",
       "      <td>1</td>\n",
       "      <td>1</td>\n",
       "    </tr>\n",
       "    <tr>\n",
       "      <th>3</th>\n",
       "      <td>40</td>\n",
       "      <td>1</td>\n",
       "      <td>1</td>\n",
       "    </tr>\n",
       "    <tr>\n",
       "      <th>4</th>\n",
       "      <td>55</td>\n",
       "      <td>1</td>\n",
       "      <td>1</td>\n",
       "    </tr>\n",
       "  </tbody>\n",
       "</table>\n",
       "</div>"
      ],
      "text/plain": [
       "   Patient  CampaignID  response\n",
       "0       10           1         1\n",
       "1       23           1         1\n",
       "2       24           1         1\n",
       "3       40           1         1\n",
       "4       55           1         1"
      ]
     },
     "execution_count": 177,
     "metadata": {},
     "output_type": "execute_result"
    }
   ],
   "source": [
    "# The patient who response to the Ad campaign\n",
    "campaign_response = pd.read_excel(\"campaign_response.xlsx\", sheetname=1)\n",
    "# Ad one response feature\n",
    "campaign_response[\"response\"] = 1\n",
    "print(\"There has {} number of patients who responded\".format(len(campaign_response[\"Patient\"].value_counts())))\n",
    "campaign_response.head()"
   ]
  },
  {
   "cell_type": "markdown",
   "metadata": {},
   "source": [
    "### 3. Merge dataset"
   ]
  },
  {
   "cell_type": "code",
   "execution_count": 178,
   "metadata": {},
   "outputs": [],
   "source": [
    "# Merge on the CampaignID columns\n",
    "merge_campaign = pd.merge(campaign_type, campaign_response, on=\"CampaignID\")"
   ]
  },
  {
   "cell_type": "code",
   "execution_count": 179,
   "metadata": {},
   "outputs": [],
   "source": [
    "# merge_campaign = merge_campaign[[\"Patient\", \"response\", \"Month\", \"Type\", \"CampaignID\"]]"
   ]
  },
  {
   "cell_type": "code",
   "execution_count": 180,
   "metadata": {},
   "outputs": [
    {
     "name": "stdout",
     "output_type": "stream",
     "text": [
      "\n",
      " The shape of the merged campaign dataset is: (324, 5)\n"
     ]
    },
    {
     "data": {
      "text/html": [
       "<div>\n",
       "<style scoped>\n",
       "    .dataframe tbody tr th:only-of-type {\n",
       "        vertical-align: middle;\n",
       "    }\n",
       "\n",
       "    .dataframe tbody tr th {\n",
       "        vertical-align: top;\n",
       "    }\n",
       "\n",
       "    .dataframe thead th {\n",
       "        text-align: right;\n",
       "    }\n",
       "</style>\n",
       "<table border=\"1\" class=\"dataframe\">\n",
       "  <thead>\n",
       "    <tr style=\"text-align: right;\">\n",
       "      <th></th>\n",
       "      <th>CampaignID</th>\n",
       "      <th>Type</th>\n",
       "      <th>Month</th>\n",
       "      <th>Patient</th>\n",
       "      <th>response</th>\n",
       "    </tr>\n",
       "  </thead>\n",
       "  <tbody>\n",
       "    <tr>\n",
       "      <th>0</th>\n",
       "      <td>1</td>\n",
       "      <td>email</td>\n",
       "      <td>January</td>\n",
       "      <td>10</td>\n",
       "      <td>1</td>\n",
       "    </tr>\n",
       "    <tr>\n",
       "      <th>1</th>\n",
       "      <td>1</td>\n",
       "      <td>email</td>\n",
       "      <td>January</td>\n",
       "      <td>23</td>\n",
       "      <td>1</td>\n",
       "    </tr>\n",
       "    <tr>\n",
       "      <th>2</th>\n",
       "      <td>1</td>\n",
       "      <td>email</td>\n",
       "      <td>January</td>\n",
       "      <td>24</td>\n",
       "      <td>1</td>\n",
       "    </tr>\n",
       "    <tr>\n",
       "      <th>3</th>\n",
       "      <td>1</td>\n",
       "      <td>email</td>\n",
       "      <td>January</td>\n",
       "      <td>40</td>\n",
       "      <td>1</td>\n",
       "    </tr>\n",
       "    <tr>\n",
       "      <th>4</th>\n",
       "      <td>1</td>\n",
       "      <td>email</td>\n",
       "      <td>January</td>\n",
       "      <td>55</td>\n",
       "      <td>1</td>\n",
       "    </tr>\n",
       "  </tbody>\n",
       "</table>\n",
       "</div>"
      ],
      "text/plain": [
       "   CampaignID   Type    Month  Patient  response\n",
       "0           1  email  January       10         1\n",
       "1           1  email  January       23         1\n",
       "2           1  email  January       24         1\n",
       "3           1  email  January       40         1\n",
       "4           1  email  January       55         1"
      ]
     },
     "execution_count": 180,
     "metadata": {},
     "output_type": "execute_result"
    }
   ],
   "source": [
    "print(\"\\n The shape of the merged campaign dataset is: \" + str(merge_campaign.shape))\n",
    "merge_campaign.head()"
   ]
  },
  {
   "cell_type": "markdown",
   "metadata": {},
   "source": [
    "### 4. Creat Pivot Table of Patients & Campaign Responses"
   ]
  },
  {
   "cell_type": "code",
   "execution_count": 181,
   "metadata": {},
   "outputs": [],
   "source": [
    "pivot_campaign = merge_campaign.pivot_table(index=[\"Patient\"],\n",
    "                                            columns = [\"CampaignID\"],\n",
    "                                            values=\"response\"\n",
    "                                           )"
   ]
  },
  {
   "cell_type": "code",
   "execution_count": 182,
   "metadata": {},
   "outputs": [],
   "source": [
    "pivot_campaign = pivot_campaign.fillna(0).reset_index()"
   ]
  },
  {
   "cell_type": "markdown",
   "metadata": {},
   "source": [
    "### 5. KMeans Clustering"
   ]
  },
  {
   "cell_type": "code",
   "execution_count": 183,
   "metadata": {},
   "outputs": [],
   "source": [
    "import pylab as pl\n",
    "from sklearn.cluster import KMeans\n",
    "from sklearn.decomposition import PCA"
   ]
  },
  {
   "cell_type": "markdown",
   "metadata": {},
   "source": [
    "### 6. Plot Elbow Curve"
   ]
  },
  {
   "cell_type": "code",
   "execution_count": 184,
   "metadata": {},
   "outputs": [],
   "source": [
    "# KMeans algorithm only have 1 input\n",
    "k = range(1, 15)\n",
    "kmeans = [KMeans(n_clusters=i) for i in k]\n",
    "score = [kmeans[i].fit(pivot_campaign[pivot_campaign.columns[2:]]).score(pivot_campaign[pivot_campaign.columns[2:]]) for i in range(len(kmeans))]"
   ]
  },
  {
   "cell_type": "code",
   "execution_count": 185,
   "metadata": {},
   "outputs": [],
   "source": [
    "scores = []\n",
    "for i in range(len(kmeans)):\n",
    "    score = kmeans[i].fit(pivot_campaign[pivot_campaign.columns[2:]]).score(pivot_campaign[pivot_campaign.columns[2:]])\n",
    "    scores.append(score)"
   ]
  },
  {
   "cell_type": "code",
   "execution_count": 186,
   "metadata": {},
   "outputs": [
    {
     "data": {
      "text/plain": [
       "Text(0.5, 1.0, 'Elbow Curve')"
      ]
     },
     "execution_count": 186,
     "metadata": {},
     "output_type": "execute_result"
    },
    {
     "data": {
      "image/png": "[encoded data removed]",
      "text/plain": [
       "<Figure size 432x288 with 1 Axes>"
      ]
     },
     "metadata": {
      "needs_background": "light"
     },
     "output_type": "display_data"
    }
   ],
   "source": [
    "pl.plot(k, np.array(scores))\n",
    "pl.xlabel(\"Number of Clusters\")\n",
    "pl.ylabel(\"Score\")\n",
    "pl.ylim(-500, 0)\n",
    "pl.title(\"Elbow Curve\")"
   ]
  },
  {
   "cell_type": "markdown",
   "metadata": {},
   "source": [
    "### 7. Create Clusters"
   ]
  },
  {
   "cell_type": "code",
   "execution_count": 187,
   "metadata": {},
   "outputs": [],
   "source": [
    "cluster = KMeans(n_clusters = 3)\n",
    "pivot_campaign[\"cluster\"] = cluster.fit_predict(pivot_campaign[pivot_campaign.columns[2:]])"
   ]
  },
  {
   "cell_type": "code",
   "execution_count": 192,
   "metadata": {},
   "outputs": [
    {
     "data": {
      "text/plain": [
       "[<matplotlib.lines.Line2D at 0x2981374fcc0>,\n",
       " <matplotlib.lines.Line2D at 0x2981374fe10>,\n",
       " <matplotlib.lines.Line2D at 0x2981374ff60>,\n",
       " <matplotlib.lines.Line2D at 0x2981375c0f0>,\n",
       " <matplotlib.lines.Line2D at 0x2981375c240>,\n",
       " <matplotlib.lines.Line2D at 0x2981375c390>,\n",
       " <matplotlib.lines.Line2D at 0x2981375c4e0>,\n",
       " <matplotlib.lines.Line2D at 0x2981375c630>,\n",
       " <matplotlib.lines.Line2D at 0x2981375c780>,\n",
       " <matplotlib.lines.Line2D at 0x2981375c8d0>,\n",
       " <matplotlib.lines.Line2D at 0x2981372fe10>,\n",
       " <matplotlib.lines.Line2D at 0x2981375cb38>,\n",
       " <matplotlib.lines.Line2D at 0x2981375cc88>,\n",
       " <matplotlib.lines.Line2D at 0x2981375cdd8>,\n",
       " <matplotlib.lines.Line2D at 0x2981375cf28>,\n",
       " <matplotlib.lines.Line2D at 0x298137600b8>,\n",
       " <matplotlib.lines.Line2D at 0x29813760208>,\n",
       " <matplotlib.lines.Line2D at 0x29813760358>,\n",
       " <matplotlib.lines.Line2D at 0x298137604a8>,\n",
       " <matplotlib.lines.Line2D at 0x298137605f8>,\n",
       " <matplotlib.lines.Line2D at 0x29813760748>,\n",
       " <matplotlib.lines.Line2D at 0x29813760898>,\n",
       " <matplotlib.lines.Line2D at 0x298137609e8>,\n",
       " <matplotlib.lines.Line2D at 0x29813760b38>,\n",
       " <matplotlib.lines.Line2D at 0x29813760c88>,\n",
       " <matplotlib.lines.Line2D at 0x29813760dd8>,\n",
       " <matplotlib.lines.Line2D at 0x29813760f28>,\n",
       " <matplotlib.lines.Line2D at 0x298137630b8>,\n",
       " <matplotlib.lines.Line2D at 0x29813763208>,\n",
       " <matplotlib.lines.Line2D at 0x29813763358>,\n",
       " <matplotlib.lines.Line2D at 0x298137634a8>]"
      ]
     },
     "execution_count": 192,
     "metadata": {},
     "output_type": "execute_result"
    },
    {
     "data": {
      "image/png": "[encoded data removed]",
      "text/plain": [
       "<Figure size 432x288 with 1 Axes>"
      ]
     },
     "metadata": {
      "needs_background": "light"
     },
     "output_type": "display_data"
    }
   ],
   "source": [
    "plt.plot(cluster.cluster_centers_)"
   ]
  },
  {
   "cell_type": "markdown",
   "metadata": {},
   "source": [
    "### 8. Visualization  --> using PCA"
   ]
  },
  {
   "cell_type": "code",
   "execution_count": 189,
   "metadata": {},
   "outputs": [],
   "source": [
    "# The input for PCA is only the number of components\n",
    "pca = PCA(n_components = 2)\n",
    "pivot_campaign['x'] = pca.fit_transform(pivot_campaign.iloc[:, 1:33])[:,0]\n",
    "pivot_campaign['y'] = pca.fit_transform(pivot_campaign.iloc[:, 1:33])[:,1]\n",
    "pivot_campaign = pivot_campaign.reset_index()"
   ]
  },
  {
   "cell_type": "code",
   "execution_count": 190,
   "metadata": {},
   "outputs": [
    {
     "data": {
      "image/png": "[encoded data removed]",
      "text/plain": [
       "<Figure size 720x432 with 1 Axes>"
      ]
     },
     "metadata": {
      "needs_background": "light"
     },
     "output_type": "display_data"
    }
   ],
   "source": [
    "# generate the colormap for this \n",
    "import matplotlib.pyplot as plt\n",
    "\n",
    "\n",
    "kmeans_colors = ['green' if c == 0 else 'blue' if c == 2 else 'red' for c in cluster.labels_]\n",
    "fig = pl.figure(figsize=(10,6))\n",
    "plt.scatter(x='x', y='y', data=pivot_campaign,\n",
    "            alpha=0.25, color=kmeans_colors)\n",
    "plt.xlabel(\"PC1\")\n",
    "plt.ylabel(\"PC2\")\n",
    "plt.title(\"KMeans Clusters\")\n",
    "plt.show()"
   ]
  },
  {
   "cell_type": "code",
   "execution_count": 104,
   "metadata": {},
   "outputs": [
    {
     "data": {
      "text/html": [
       "<div>\n",
       "<style scoped>\n",
       "    .dataframe tbody tr th:only-of-type {\n",
       "        vertical-align: middle;\n",
       "    }\n",
       "\n",
       "    .dataframe tbody tr th {\n",
       "        vertical-align: top;\n",
       "    }\n",
       "\n",
       "    .dataframe thead th {\n",
       "        text-align: right;\n",
       "    }\n",
       "</style>\n",
       "<table border=\"1\" class=\"dataframe\">\n",
       "  <thead>\n",
       "    <tr style=\"text-align: right;\">\n",
       "      <th>CampaignID</th>\n",
       "      <th>Patient</th>\n",
       "      <th>cluster</th>\n",
       "      <th>x</th>\n",
       "      <th>y</th>\n",
       "    </tr>\n",
       "  </thead>\n",
       "  <tbody>\n",
       "    <tr>\n",
       "      <th>0</th>\n",
       "      <td>1</td>\n",
       "      <td>2</td>\n",
       "      <td>0.975682</td>\n",
       "      <td>0.177733</td>\n",
       "    </tr>\n",
       "    <tr>\n",
       "      <th>1</th>\n",
       "      <td>2</td>\n",
       "      <td>0</td>\n",
       "      <td>-0.307802</td>\n",
       "      <td>0.071641</td>\n",
       "    </tr>\n",
       "    <tr>\n",
       "      <th>2</th>\n",
       "      <td>3</td>\n",
       "      <td>1</td>\n",
       "      <td>-0.416673</td>\n",
       "      <td>0.992914</td>\n",
       "    </tr>\n",
       "    <tr>\n",
       "      <th>3</th>\n",
       "      <td>4</td>\n",
       "      <td>2</td>\n",
       "      <td>0.547440</td>\n",
       "      <td>-0.609382</td>\n",
       "    </tr>\n",
       "    <tr>\n",
       "      <th>4</th>\n",
       "      <td>5</td>\n",
       "      <td>0</td>\n",
       "      <td>-0.379452</td>\n",
       "      <td>-0.753825</td>\n",
       "    </tr>\n",
       "  </tbody>\n",
       "</table>\n",
       "</div>"
      ],
      "text/plain": [
       "CampaignID  Patient  cluster         x         y\n",
       "0                 1        2  0.975682  0.177733\n",
       "1                 2        0 -0.307802  0.071641\n",
       "2                 3        1 -0.416673  0.992914\n",
       "3                 4        2  0.547440 -0.609382\n",
       "4                 5        0 -0.379452 -0.753825"
      ]
     },
     "execution_count": 104,
     "metadata": {},
     "output_type": "execute_result"
    }
   ],
   "source": [
    "campaign_cluster = pivot_campaign[[\"Patient\", \"cluster\", \"x\", \"y\"]]\n",
    "campaign_cluster.head()"
   ]
  },
  {
   "cell_type": "code",
   "execution_count": 41,
   "metadata": {},
   "outputs": [
    {
     "data": {
      "text/html": [
       "<div>\n",
       "<style scoped>\n",
       "    .dataframe tbody tr th:only-of-type {\n",
       "        vertical-align: middle;\n",
       "    }\n",
       "\n",
       "    .dataframe tbody tr th {\n",
       "        vertical-align: top;\n",
       "    }\n",
       "\n",
       "    .dataframe thead th {\n",
       "        text-align: right;\n",
       "    }\n",
       "</style>\n",
       "<table border=\"1\" class=\"dataframe\">\n",
       "  <thead>\n",
       "    <tr style=\"text-align: right;\">\n",
       "      <th></th>\n",
       "      <th>CampaignID</th>\n",
       "      <th>Type</th>\n",
       "      <th>Month</th>\n",
       "      <th>Patient</th>\n",
       "      <th>response</th>\n",
       "      <th>cluster</th>\n",
       "      <th>x</th>\n",
       "      <th>y</th>\n",
       "    </tr>\n",
       "  </thead>\n",
       "  <tbody>\n",
       "    <tr>\n",
       "      <th>0</th>\n",
       "      <td>1</td>\n",
       "      <td>email</td>\n",
       "      <td>January</td>\n",
       "      <td>10</td>\n",
       "      <td>1</td>\n",
       "      <td>0</td>\n",
       "      <td>-0.282221</td>\n",
       "      <td>-0.622973</td>\n",
       "    </tr>\n",
       "    <tr>\n",
       "      <th>1</th>\n",
       "      <td>1</td>\n",
       "      <td>email</td>\n",
       "      <td>January</td>\n",
       "      <td>23</td>\n",
       "      <td>1</td>\n",
       "      <td>0</td>\n",
       "      <td>-0.496037</td>\n",
       "      <td>-0.715865</td>\n",
       "    </tr>\n",
       "    <tr>\n",
       "      <th>2</th>\n",
       "      <td>1</td>\n",
       "      <td>email</td>\n",
       "      <td>January</td>\n",
       "      <td>24</td>\n",
       "      <td>1</td>\n",
       "      <td>2</td>\n",
       "      <td>-1.073771</td>\n",
       "      <td>0.126451</td>\n",
       "    </tr>\n",
       "    <tr>\n",
       "      <th>3</th>\n",
       "      <td>1</td>\n",
       "      <td>email</td>\n",
       "      <td>January</td>\n",
       "      <td>40</td>\n",
       "      <td>1</td>\n",
       "      <td>0</td>\n",
       "      <td>-0.856150</td>\n",
       "      <td>-0.289071</td>\n",
       "    </tr>\n",
       "    <tr>\n",
       "      <th>4</th>\n",
       "      <td>1</td>\n",
       "      <td>email</td>\n",
       "      <td>January</td>\n",
       "      <td>55</td>\n",
       "      <td>1</td>\n",
       "      <td>2</td>\n",
       "      <td>-0.357379</td>\n",
       "      <td>0.375035</td>\n",
       "    </tr>\n",
       "  </tbody>\n",
       "</table>\n",
       "</div>"
      ],
      "text/plain": [
       "   CampaignID   Type    Month  Patient  response  cluster         x         y\n",
       "0           1  email  January       10         1        0 -0.282221 -0.622973\n",
       "1           1  email  January       23         1        0 -0.496037 -0.715865\n",
       "2           1  email  January       24         1        2 -1.073771  0.126451\n",
       "3           1  email  January       40         1        0 -0.856150 -0.289071\n",
       "4           1  email  January       55         1        2 -0.357379  0.375035"
      ]
     },
     "execution_count": 41,
     "metadata": {},
     "output_type": "execute_result"
    }
   ],
   "source": [
    "final_campaign = pd.merge(campaign_response, campaign_cluster)\n",
    "final_campaign = pd.merge(campaign_type, final_campaign)\n",
    "final_campaign.head()"
   ]
  },
  {
   "cell_type": "code",
   "execution_count": 43,
   "metadata": {},
   "outputs": [],
   "source": [
    "final_campaign[\"cluster_1\"] = final_campaign.cluster == 0"
   ]
  },
  {
   "cell_type": "code",
   "execution_count": 44,
   "metadata": {},
   "outputs": [
    {
     "data": {
      "text/plain": [
       "cluster_1  Type       \n",
       "False      email          56\n",
       "           SMS            50\n",
       "           Telephone      26\n",
       "           WhatsApp       23\n",
       "           Pamphlet        3\n",
       "           Long letter     1\n",
       "True       WhatsApp       78\n",
       "           Long letter    31\n",
       "           email          20\n",
       "           Telephone      17\n",
       "           Pamphlet       12\n",
       "           SMS             7\n",
       "Name: Type, dtype: int64"
      ]
     },
     "execution_count": 44,
     "metadata": {},
     "output_type": "execute_result"
    }
   ],
   "source": [
    "final_campaign.groupby(\"cluster_1\").Type.value_counts()"
   ]
  },
  {
   "cell_type": "code",
   "execution_count": 45,
   "metadata": {},
   "outputs": [
    {
     "data": {
      "text/plain": [
       "cluster_2  Type       \n",
       "False      WhatsApp       82\n",
       "           email          60\n",
       "           Long letter    31\n",
       "           Telephone      19\n",
       "           Pamphlet       15\n",
       "           SMS             7\n",
       "True       SMS            50\n",
       "           Telephone      24\n",
       "           WhatsApp       19\n",
       "           email          16\n",
       "           Long letter     1\n",
       "Name: Type, dtype: int64"
      ]
     },
     "execution_count": 45,
     "metadata": {},
     "output_type": "execute_result"
    }
   ],
   "source": [
    "final_campaign[\"cluster_2\"] = final_campaign.cluster == 1\n",
    "final_campaign.groupby(\"cluster_2\").Type.value_counts()"
   ]
  },
  {
   "cell_type": "code",
   "execution_count": null,
   "metadata": {},
   "outputs": [],
   "source": []
  }
 ],
 "metadata": {
  "kernelspec": {
   "display_name": "Python 3",
   "language": "python",
   "name": "python3"
  },
  "language_info": {
   "codemirror_mode": {
    "name": "ipython",
    "version": 3
   },
   "file_extension": ".py",
   "mimetype": "text/x-python",
   "name": "python",
   "nbconvert_exporter": "python",
   "pygments_lexer": "ipython3",
   "version": "3.7.3"
  }
 },
 "nbformat": 4,
 "nbformat_minor": 2
}
